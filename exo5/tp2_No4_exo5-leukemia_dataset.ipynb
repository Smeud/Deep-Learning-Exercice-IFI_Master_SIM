{
 "cells": [
  {
   "cell_type": "code",
   "execution_count": 1,
   "metadata": {},
   "outputs": [
    {
     "name": "stderr",
     "output_type": "stream",
     "text": [
      "Using TensorFlow backend.\n"
     ]
    }
   ],
   "source": [
    "import pandas as pd\n",
    "import tensorflow as tf\n",
    "import keras as k\n",
    "import matplotlib.pyplot as plt\n",
    "from keras.models import Sequential\n",
    "from keras.layers import Dense\n",
    "from keras.utils import to_categorical\n",
    "from sklearn.metrics import confusion_matrix"
   ]
  },
  {
   "cell_type": "code",
   "execution_count": 2,
   "metadata": {},
   "outputs": [
    {
     "data": {
      "text/plain": [
       "(37, 7130)"
      ]
     },
     "execution_count": 2,
     "metadata": {},
     "output_type": "execute_result"
    }
   ],
   "source": [
    "#lire la base d'apprentissage\n",
    "dataset = pd.read_csv('leukemia_trn.csv', delimiter = \";\")\n",
    "#visualiser le nombre de lignes et de colonne contient la base d'apprentissage\n",
    "dataset.shape"
   ]
  },
  {
   "cell_type": "code",
   "execution_count": 3,
   "metadata": {},
   "outputs": [
    {
     "data": {
      "text/plain": [
       "(37, 7130)"
      ]
     },
     "execution_count": 3,
     "metadata": {},
     "output_type": "execute_result"
    }
   ],
   "source": [
    "#lire la base de test\n",
    "dataset_test = pd.read_csv('leukemia_tst.csv', delimiter = \";\")\n",
    "x = dataset.iloc[:,1:7130]\n",
    "y = dataset.iloc[:,-1]\n",
    "#pour visualiser le nombre de lignes et de colonne de la base de test\n",
    "dataset_test.shape"
   ]
  },
  {
   "cell_type": "code",
   "execution_count": 4,
   "metadata": {},
   "outputs": [],
   "source": [
    "#Entrainement\n",
    "test_x = dataset_test.iloc[:,1:7130]\n",
    "test_y = dataset_test.iloc[:,-1]"
   ]
  },
  {
   "cell_type": "code",
   "execution_count": 5,
   "metadata": {},
   "outputs": [
    {
     "data": {
      "text/plain": [
       "(37, 2)"
      ]
     },
     "execution_count": 5,
     "metadata": {},
     "output_type": "execute_result"
    }
   ],
   "source": [
    "#encodage des donnees et des labels (lignes et colonnes) train and test\n",
    "encoded = to_categorical(y)\n",
    "encode = to_categorical(test_y)\n",
    "#pour savoir combien de unites de neurones doit-on mettre dans la derniere couche(sortie) de notre reseau\n",
    "encoded.shape"
   ]
  },
  {
   "cell_type": "code",
   "execution_count": 6,
   "metadata": {},
   "outputs": [
    {
     "name": "stdout",
     "output_type": "stream",
     "text": [
      "_________________________________________________________________\n",
      "Layer (type)                 Output Shape              Param #   \n",
      "=================================================================\n",
      "dense_1 (Dense)              (None, 16)                114080    \n",
      "_________________________________________________________________\n",
      "dense_2 (Dense)              (None, 8)                 136       \n",
      "_________________________________________________________________\n",
      "dense_3 (Dense)              (None, 4)                 36        \n",
      "_________________________________________________________________\n",
      "dense_4 (Dense)              (None, 2)                 10        \n",
      "=================================================================\n",
      "Total params: 114,262\n",
      "Trainable params: 114,262\n",
      "Non-trainable params: 0\n",
      "_________________________________________________________________\n"
     ]
    }
   ],
   "source": [
    "#construction de notre reseau de neurones\n",
    "model = Sequential()\n",
    "model.add(Dense(units = 16, kernel_initializer = 'uniform' , activation = 'relu' , input_dim = 7129))\n",
    "model.add(Dense(units = 8, kernel_initializer = 'uniform' , activation = 'relu'))\n",
    "model.add(Dense(units = 4, kernel_initializer = 'uniform' , activation = 'relu'))\n",
    "model.add(Dense(units = 2, kernel_initializer = 'uniform' , activation = 'softmax'))\n",
    "#visualisation de l'architecture des couches du cnn(avec sorties et parametres)\n",
    "model.summary()"
   ]
  },
  {
   "cell_type": "code",
   "execution_count": 7,
   "metadata": {},
   "outputs": [],
   "source": [
    "#definition de l'optimiseur, la fonction perte et la mesure de performance\n",
    "model.compile(optimizer = 'adam', loss = 'binary_crossentropy', metrics = ['accuracy'])"
   ]
  },
  {
   "cell_type": "code",
   "execution_count": 8,
   "metadata": {},
   "outputs": [
    {
     "name": "stdout",
     "output_type": "stream",
     "text": [
      "Epoch 1/20\n",
      "37/37 [==============================] - 2s 66ms/step - loss: 0.1049 - acc: 1.0000\n",
      "Epoch 2/20\n",
      "37/37 [==============================] - 0s 973us/step - loss: 3.3386e-05 - acc: 1.0000\n",
      "Epoch 3/20\n",
      "37/37 [==============================] - 0s 1ms/step - loss: 1.0960e-07 - acc: 1.0000\n",
      "Epoch 4/20\n",
      "37/37 [==============================] - 0s 946us/step - loss: 1.0960e-07 - acc: 1.0000\n",
      "Epoch 5/20\n",
      "37/37 [==============================] - 0s 919us/step - loss: 1.0960e-07 - acc: 1.0000\n",
      "Epoch 6/20\n",
      "37/37 [==============================] - 0s 1ms/step - loss: 1.0960e-07 - acc: 1.0000\n",
      "Epoch 7/20\n",
      "37/37 [==============================] - 0s 919us/step - loss: 1.0960e-07 - acc: 1.0000\n",
      "Epoch 8/20\n",
      "37/37 [==============================] - 0s 973us/step - loss: 1.0960e-07 - acc: 1.0000\n",
      "Epoch 9/20\n",
      "37/37 [==============================] - 0s 919us/step - loss: 1.0960e-07 - acc: 1.0000\n",
      "Epoch 10/20\n",
      "37/37 [==============================] - 0s 973us/step - loss: 1.0960e-07 - acc: 1.0000\n",
      "Epoch 11/20\n",
      "37/37 [==============================] - 0s 1ms/step - loss: 1.0960e-07 - acc: 1.0000\n",
      "Epoch 12/20\n",
      "37/37 [==============================] - 0s 1ms/step - loss: 1.0960e-07 - acc: 1.0000\n",
      "Epoch 13/20\n",
      "37/37 [==============================] - 0s 919us/step - loss: 1.0960e-07 - acc: 1.0000\n",
      "Epoch 14/20\n",
      "37/37 [==============================] - 0s 1ms/step - loss: 1.0960e-07 - acc: 1.0000\n",
      "Epoch 15/20\n",
      "37/37 [==============================] - 0s 1ms/step - loss: 1.0960e-07 - acc: 1.0000\n",
      "Epoch 16/20\n",
      "37/37 [==============================] - 0s 1ms/step - loss: 1.0960e-07 - acc: 1.0000\n",
      "Epoch 17/20\n",
      "37/37 [==============================] - 0s 892us/step - loss: 1.0960e-07 - acc: 1.0000\n",
      "Epoch 18/20\n",
      "37/37 [==============================] - 0s 919us/step - loss: 1.0960e-07 - acc: 1.0000\n",
      "Epoch 19/20\n",
      "37/37 [==============================] - 0s 892us/step - loss: 1.0960e-07 - acc: 1.0000\n",
      "Epoch 20/20\n",
      "37/37 [==============================] - 0s 784us/step - loss: 1.0960e-07 - acc: 1.0000\n"
     ]
    },
    {
     "data": {
      "text/plain": [
       "<keras.callbacks.History at 0x17ec72bbda0>"
      ]
     },
     "execution_count": 8,
     "metadata": {},
     "output_type": "execute_result"
    }
   ],
   "source": [
    "#phase d'apprentissage du modele cnn\n",
    "model.fit(x, encoded, batch_size = 10, epochs = 20)"
   ]
  },
  {
   "cell_type": "code",
   "execution_count": 9,
   "metadata": {},
   "outputs": [
    {
     "name": "stdout",
     "output_type": "stream",
     "text": [
      "[[False  True]\n",
      " [False  True]\n",
      " [False  True]\n",
      " [False  True]\n",
      " [False  True]\n",
      " [False  True]\n",
      " [False  True]\n",
      " [False  True]\n",
      " [False  True]\n",
      " [False  True]\n",
      " [False  True]\n",
      " [False  True]\n",
      " [False  True]\n",
      " [False  True]\n",
      " [False  True]\n",
      " [False  True]\n",
      " [False  True]\n",
      " [False  True]\n",
      " [False  True]\n",
      " [False  True]\n",
      " [False  True]\n",
      " [False  True]\n",
      " [False  True]\n",
      " [False  True]\n",
      " [False  True]\n",
      " [False  True]\n",
      " [False  True]\n",
      " [False  True]\n",
      " [False  True]\n",
      " [False  True]\n",
      " [False  True]\n",
      " [False  True]\n",
      " [False  True]\n",
      " [False  True]\n",
      " [False  True]\n",
      " [False  True]\n",
      " [False  True]]\n"
     ]
    }
   ],
   "source": [
    "#phase de prediction\n",
    "y_pred = model.predict(test_x)\n",
    "y_pred = (y_pred >= 0.4)\n",
    "#affichage de la prediction\n",
    "print(y_pred)"
   ]
  },
  {
   "cell_type": "code",
   "execution_count": 10,
   "metadata": {},
   "outputs": [
    {
     "name": "stdout",
     "output_type": "stream",
     "text": [
      "[[37]]\n"
     ]
    }
   ],
   "source": [
    "#creation de la matrice de confusion\n",
    "cm = confusion_matrix(encode.argmax(axis=1), y_pred.argmax(axis=1))\n",
    "#impression de la matrice de confusion\n",
    "print(cm)"
   ]
  },
  {
   "cell_type": "code",
   "execution_count": null,
   "metadata": {},
   "outputs": [],
   "source": []
  }
 ],
 "metadata": {
  "kernelspec": {
   "display_name": "Python 3",
   "language": "python",
   "name": "python3"
  },
  "language_info": {
   "codemirror_mode": {
    "name": "ipython",
    "version": 3
   },
   "file_extension": ".py",
   "mimetype": "text/x-python",
   "name": "python",
   "nbconvert_exporter": "python",
   "pygments_lexer": "ipython3",
   "version": "3.6.8"
  }
 },
 "nbformat": 4,
 "nbformat_minor": 2
}
