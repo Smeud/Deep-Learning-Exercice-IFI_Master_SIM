{
 "cells": [
  {
   "cell_type": "markdown",
   "metadata": {},
   "source": [
    "Importer les modules necessaires"
   ]
  },
  {
   "cell_type": "code",
   "execution_count": 1,
   "metadata": {},
   "outputs": [
    {
     "name": "stderr",
     "output_type": "stream",
     "text": [
      "Using TensorFlow backend.\n"
     ]
    }
   ],
   "source": [
    "import pandas as pd\n",
    "import tensorflow as tf\n",
    "import keras as k\n",
    "import numpy as np\n",
    "import matplotlib.pyplot as plt\n",
    "from keras.models import Sequential\n",
    "from keras.layers import Dense\n",
    "from keras.utils import to_categorical\n",
    "from sklearn.metrics import confusion_matrix"
   ]
  },
  {
   "cell_type": "markdown",
   "metadata": {},
   "source": [
    "Preparer le jeu de donner, diviser en base d'apprentissage et de test"
   ]
  },
  {
   "cell_type": "code",
   "execution_count": 2,
   "metadata": {},
   "outputs": [
    {
     "data": {
      "text/plain": [
       "(3084, 65)"
      ]
     },
     "execution_count": 2,
     "metadata": {},
     "output_type": "execute_result"
    }
   ],
   "source": [
    "dataset = pd.read_csv('optic.csv', delimiter = \";\")\n",
    "dataset = pd.DataFrame(np.random.randn(3822,65))\n",
    "msk = np.random.rand(len(dataset)) < 0.8\n",
    "optic_train = dataset[msk]\n",
    "optic_test = dataset[~msk]\n",
    "len(optic_train)\n",
    "len(optic_test)\n",
    "optic_train.shape"
   ]
  },
  {
   "cell_type": "markdown",
   "metadata": {},
   "source": [
    "Apprentissage"
   ]
  },
  {
   "cell_type": "code",
   "execution_count": 3,
   "metadata": {},
   "outputs": [
    {
     "data": {
      "text/plain": [
       "(3084, 64)"
      ]
     },
     "execution_count": 3,
     "metadata": {},
     "output_type": "execute_result"
    }
   ],
   "source": [
    "x = optic_train.iloc[:,1:65]\n",
    "y = optic_train.iloc[:,-1]\n",
    "x.shape"
   ]
  },
  {
   "cell_type": "markdown",
   "metadata": {},
   "source": [
    "Test"
   ]
  },
  {
   "cell_type": "code",
   "execution_count": 4,
   "metadata": {},
   "outputs": [
    {
     "data": {
      "text/plain": [
       "(738, 64)"
      ]
     },
     "execution_count": 4,
     "metadata": {},
     "output_type": "execute_result"
    }
   ],
   "source": [
    "x_test = optic_test.iloc[:,1:65]\n",
    "y_test = optic_test.iloc[:,-1]\n",
    "x_test.shape"
   ]
  },
  {
   "cell_type": "markdown",
   "metadata": {},
   "source": [
    "Encodage des labels"
   ]
  },
  {
   "cell_type": "code",
   "execution_count": 5,
   "metadata": {},
   "outputs": [
    {
     "data": {
      "text/plain": [
       "(3084, 4)"
      ]
     },
     "execution_count": 5,
     "metadata": {},
     "output_type": "execute_result"
    }
   ],
   "source": [
    "encode_y = to_categorical(y)\n",
    "encode_ytest = to_categorical(y_test)\n",
    "encode_y.shape"
   ]
  },
  {
   "cell_type": "markdown",
   "metadata": {},
   "source": [
    "Creation du modele"
   ]
  },
  {
   "cell_type": "code",
   "execution_count": 6,
   "metadata": {},
   "outputs": [],
   "source": [
    "model = Sequential()\n",
    "model.add(Dense(units = 32, kernel_initializer = 'uniform' , activation = 'relu' , input_dim = 64))\n",
    "model.add(Dense(units = 28, kernel_initializer = 'uniform' , activation = 'relu'))\n",
    "model.add(Dense(units = 16, kernel_initializer = 'uniform' , activation = 'relu'))\n",
    "model.add(Dense(units = 8, kernel_initializer = 'uniform' , activation = 'relu'))\n",
    "model.add(Dense(units = 4, kernel_initializer = 'uniform' , activation = 'softmax'))"
   ]
  },
  {
   "cell_type": "markdown",
   "metadata": {},
   "source": [
    "Impression du modele"
   ]
  },
  {
   "cell_type": "code",
   "execution_count": 7,
   "metadata": {},
   "outputs": [
    {
     "name": "stdout",
     "output_type": "stream",
     "text": [
      "_________________________________________________________________\n",
      "Layer (type)                 Output Shape              Param #   \n",
      "=================================================================\n",
      "dense_1 (Dense)              (None, 32)                2080      \n",
      "_________________________________________________________________\n",
      "dense_2 (Dense)              (None, 28)                924       \n",
      "_________________________________________________________________\n",
      "dense_3 (Dense)              (None, 16)                464       \n",
      "_________________________________________________________________\n",
      "dense_4 (Dense)              (None, 8)                 136       \n",
      "_________________________________________________________________\n",
      "dense_5 (Dense)              (None, 4)                 36        \n",
      "=================================================================\n",
      "Total params: 3,640\n",
      "Trainable params: 3,640\n",
      "Non-trainable params: 0\n",
      "_________________________________________________________________\n"
     ]
    }
   ],
   "source": [
    "model.summary()"
   ]
  },
  {
   "cell_type": "markdown",
   "metadata": {},
   "source": [
    "Ajout de la fonction de perte, l'optimiseur et la precision pour le modele"
   ]
  },
  {
   "cell_type": "code",
   "execution_count": 8,
   "metadata": {},
   "outputs": [],
   "source": [
    "model.compile(optimizer = 'adam', loss = 'binary_crossentropy', metrics = ['accuracy'])"
   ]
  },
  {
   "cell_type": "markdown",
   "metadata": {},
   "source": [
    "Execution de l'apprentissage du modele"
   ]
  },
  {
   "cell_type": "code",
   "execution_count": 9,
   "metadata": {},
   "outputs": [
    {
     "name": "stdout",
     "output_type": "stream",
     "text": [
      "Epoch 1/50\n",
      "3084/3084 [==============================] - 1s 226us/step - loss: 0.5074 - acc: 0.7710\n",
      "Epoch 2/50\n",
      "3084/3084 [==============================] - 0s 64us/step - loss: 0.4102 - acc: 0.8339\n",
      "Epoch 3/50\n",
      "3084/3084 [==============================] - 0s 63us/step - loss: 0.4024 - acc: 0.8334\n",
      "Epoch 4/50\n",
      "3084/3084 [==============================] - 0s 63us/step - loss: 0.3992 - acc: 0.8345\n",
      "Epoch 5/50\n",
      "3084/3084 [==============================] - 0s 64us/step - loss: 0.3958 - acc: 0.8352\n",
      "Epoch 6/50\n",
      "3084/3084 [==============================] - 0s 65us/step - loss: 0.3937 - acc: 0.8359\n",
      "Epoch 7/50\n",
      "3084/3084 [==============================] - 0s 65us/step - loss: 0.3903 - acc: 0.8367\n",
      "Epoch 8/50\n",
      "3084/3084 [==============================] - 0s 63us/step - loss: 0.3877 - acc: 0.8373\n",
      "Epoch 9/50\n",
      "3084/3084 [==============================] - 0s 64us/step - loss: 0.3833 - acc: 0.8382\n",
      "Epoch 10/50\n",
      "3084/3084 [==============================] - 0s 63us/step - loss: 0.3794 - acc: 0.8411\n",
      "Epoch 11/50\n",
      "3084/3084 [==============================] - 0s 62us/step - loss: 0.3742 - acc: 0.8422\n",
      "Epoch 12/50\n",
      "3084/3084 [==============================] - 0s 70us/step - loss: 0.3698 - acc: 0.8464\n",
      "Epoch 13/50\n",
      "3084/3084 [==============================] - 0s 65us/step - loss: 0.3625 - acc: 0.8491\n",
      "Epoch 14/50\n",
      "3084/3084 [==============================] - 0s 64us/step - loss: 0.3560 - acc: 0.8532\n",
      "Epoch 15/50\n",
      "3084/3084 [==============================] - 0s 67us/step - loss: 0.3492 - acc: 0.8555\n",
      "Epoch 16/50\n",
      "3084/3084 [==============================] - 0s 66us/step - loss: 0.3446 - acc: 0.8555\n",
      "Epoch 17/50\n",
      "3084/3084 [==============================] - 0s 64us/step - loss: 0.3376 - acc: 0.8613\n",
      "Epoch 18/50\n",
      "3084/3084 [==============================] - 0s 65us/step - loss: 0.3303 - acc: 0.8641\n",
      "Epoch 19/50\n",
      "3084/3084 [==============================] - 0s 64us/step - loss: 0.3249 - acc: 0.8650\n",
      "Epoch 20/50\n",
      "3084/3084 [==============================] - 0s 65us/step - loss: 0.3161 - acc: 0.8693\n",
      "Epoch 21/50\n",
      "3084/3084 [==============================] - 0s 63us/step - loss: 0.3106 - acc: 0.8704\n",
      "Epoch 22/50\n",
      "3084/3084 [==============================] - 0s 64us/step - loss: 0.3024 - acc: 0.8727\n",
      "Epoch 23/50\n",
      "3084/3084 [==============================] - 0s 65us/step - loss: 0.2975 - acc: 0.8746\n",
      "Epoch 24/50\n",
      "3084/3084 [==============================] - 0s 64us/step - loss: 0.2907 - acc: 0.8778\n",
      "Epoch 25/50\n",
      "3084/3084 [==============================] - 0s 65us/step - loss: 0.2831 - acc: 0.8810\n",
      "Epoch 26/50\n",
      "3084/3084 [==============================] - 0s 62us/step - loss: 0.2759 - acc: 0.8838\n",
      "Epoch 27/50\n",
      "3084/3084 [==============================] - 0s 65us/step - loss: 0.2678 - acc: 0.8842\n",
      "Epoch 28/50\n",
      "3084/3084 [==============================] - 0s 64us/step - loss: 0.2662 - acc: 0.8859\n",
      "Epoch 29/50\n",
      "3084/3084 [==============================] - 0s 65us/step - loss: 0.2606 - acc: 0.8868\n",
      "Epoch 30/50\n",
      "3084/3084 [==============================] - 0s 65us/step - loss: 0.2550 - acc: 0.8888\n",
      "Epoch 31/50\n",
      "3084/3084 [==============================] - 0s 69us/step - loss: 0.2450 - acc: 0.8930\n",
      "Epoch 32/50\n",
      "3084/3084 [==============================] - 0s 88us/step - loss: 0.2355 - acc: 0.8951\n",
      "Epoch 33/50\n",
      "3084/3084 [==============================] - 0s 82us/step - loss: 0.2320 - acc: 0.8969\n",
      "Epoch 34/50\n",
      "3084/3084 [==============================] - 0s 84us/step - loss: 0.2274 - acc: 0.8968\n",
      "Epoch 35/50\n",
      "3084/3084 [==============================] - 0s 80us/step - loss: 0.2258 - acc: 0.8980\n",
      "Epoch 36/50\n",
      "3084/3084 [==============================] - 0s 82us/step - loss: 0.2268 - acc: 0.8971\n",
      "Epoch 37/50\n",
      "3084/3084 [==============================] - 0s 82us/step - loss: 0.2253 - acc: 0.8977\n",
      "Epoch 38/50\n",
      "3084/3084 [==============================] - 0s 79us/step - loss: 0.2103 - acc: 0.9019\n",
      "Epoch 39/50\n",
      "3084/3084 [==============================] - 0s 80us/step - loss: 0.2085 - acc: 0.9030\n",
      "Epoch 40/50\n",
      "3084/3084 [==============================] - 0s 79us/step - loss: 0.2177 - acc: 0.8988\n",
      "Epoch 41/50\n",
      "3084/3084 [==============================] - 0s 71us/step - loss: 0.2063 - acc: 0.9030\n",
      "Epoch 42/50\n",
      "3084/3084 [==============================] - 0s 69us/step - loss: 0.1955 - acc: 0.9061\n",
      "Epoch 43/50\n",
      "3084/3084 [==============================] - 0s 64us/step - loss: 0.1895 - acc: 0.9078\n",
      "Epoch 44/50\n",
      "3084/3084 [==============================] - 0s 70us/step - loss: 0.1852 - acc: 0.9087\n",
      "Epoch 45/50\n",
      "3084/3084 [==============================] - 0s 68us/step - loss: 0.1888 - acc: 0.9069\n",
      "Epoch 46/50\n",
      "3084/3084 [==============================] - 0s 66us/step - loss: 0.2149 - acc: 0.8992\n",
      "Epoch 47/50\n",
      "3084/3084 [==============================] - 0s 67us/step - loss: 0.2102 - acc: 0.9005\n",
      "Epoch 48/50\n",
      "3084/3084 [==============================] - 0s 65us/step - loss: 0.2015 - acc: 0.9035\n",
      "Epoch 49/50\n",
      "3084/3084 [==============================] - 0s 67us/step - loss: 0.1947 - acc: 0.9058\n",
      "Epoch 50/50\n",
      "3084/3084 [==============================] - 0s 65us/step - loss: 0.1878 - acc: 0.9068\n"
     ]
    },
    {
     "data": {
      "text/plain": [
       "<keras.callbacks.History at 0x1d355ad4588>"
      ]
     },
     "execution_count": 9,
     "metadata": {},
     "output_type": "execute_result"
    }
   ],
   "source": [
    "model.fit(x, encode_y, batch_size = 28, epochs = 50)"
   ]
  },
  {
   "cell_type": "markdown",
   "metadata": {},
   "source": [
    "Prediction a partir des donnees de test"
   ]
  },
  {
   "cell_type": "code",
   "execution_count": 10,
   "metadata": {},
   "outputs": [
    {
     "name": "stdout",
     "output_type": "stream",
     "text": [
      "[[ True False False False]\n",
      " [ True  True False  True]\n",
      " [ True False False False]\n",
      " ..., \n",
      " [ True False False False]\n",
      " [ True  True False  True]\n",
      " [False  True False  True]]\n"
     ]
    }
   ],
   "source": [
    "y_predict = model.predict(x_test)\n",
    "y_predict = (y_predict >= 0.18)\n",
    "print(y_predict)"
   ]
  },
  {
   "cell_type": "markdown",
   "metadata": {},
   "source": [
    "Matrice de confusion"
   ]
  },
  {
   "cell_type": "code",
   "execution_count": 11,
   "metadata": {},
   "outputs": [
    {
     "name": "stdout",
     "output_type": "stream",
     "text": [
      "[[349 142   0   0]\n",
      " [ 82  33   0   0]\n",
      " [ 27  16   0   0]\n",
      " [ 64  25   0   0]]\n"
     ]
    }
   ],
   "source": [
    "con_m = confusion_matrix(encode_ytest.argmax(axis=1), y_predict.argmax(axis=1))\n",
    "print(con_m)"
   ]
  },
  {
   "cell_type": "code",
   "execution_count": null,
   "metadata": {},
   "outputs": [],
   "source": []
  }
 ],
 "metadata": {
  "kernelspec": {
   "display_name": "Python 3",
   "language": "python",
   "name": "python3"
  },
  "language_info": {
   "codemirror_mode": {
    "name": "ipython",
    "version": 3
   },
   "file_extension": ".py",
   "mimetype": "text/x-python",
   "name": "python",
   "nbconvert_exporter": "python",
   "pygments_lexer": "ipython3",
   "version": "3.6.8"
  }
 },
 "nbformat": 4,
 "nbformat_minor": 2
}
