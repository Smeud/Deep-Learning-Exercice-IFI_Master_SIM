{
 "cells": [
  {
   "cell_type": "code",
   "execution_count": 1,
   "metadata": {},
   "outputs": [
    {
     "name": "stderr",
     "output_type": "stream",
     "text": [
      "Using TensorFlow backend.\n"
     ]
    }
   ],
   "source": [
    "import pandas as pd\n",
    "import tensorflow as tf\n",
    "import keras as k\n",
    "import matplotlib.pyplot as plt\n",
    "from keras.models import Sequential\n",
    "from keras.layers import Dense\n",
    "from keras.utils import to_categorical\n",
    "from sklearn.metrics import confusion_matrix"
   ]
  },
  {
   "cell_type": "code",
   "execution_count": 2,
   "metadata": {},
   "outputs": [
    {
     "data": {
      "text/plain": [
       "(6665, 17)"
      ]
     },
     "execution_count": 2,
     "metadata": {},
     "output_type": "execute_result"
    }
   ],
   "source": [
    "#lire la base d'apprentissage\n",
    "dataset = pd.read_csv('letter_trn.csv', delimiter = \";\")\n",
    "#visualiser le nombre de lignes et de colonne contient la base d'apprentissage\n",
    "dataset.shape"
   ]
  },
  {
   "cell_type": "code",
   "execution_count": 3,
   "metadata": {},
   "outputs": [
    {
     "data": {
      "text/plain": [
       "(6665, 17)"
      ]
     },
     "execution_count": 3,
     "metadata": {},
     "output_type": "execute_result"
    }
   ],
   "source": [
    "#lire la base de test\n",
    "dataset_test = pd.read_csv('letter_tst.csv', delimiter = \";\")\n",
    "x = dataset.iloc[:,1:17]\n",
    "y = dataset.iloc[:,-1]\n",
    "#pour verifier le nombre de lignes et de colonne de la base de test\n",
    "dataset_test.shape"
   ]
  },
  {
   "cell_type": "code",
   "execution_count": 4,
   "metadata": {},
   "outputs": [],
   "source": [
    "#Entrainement\n",
    "test_x = dataset_test.iloc[:,1:17]\n",
    "test_y = dataset_test.iloc[:,-1]"
   ]
  },
  {
   "cell_type": "code",
   "execution_count": 5,
   "metadata": {},
   "outputs": [
    {
     "data": {
      "text/plain": [
       "(6665, 26)"
      ]
     },
     "execution_count": 5,
     "metadata": {},
     "output_type": "execute_result"
    }
   ],
   "source": [
    "#encodage des donnees et des labels (lignes et colonnes) train and test\n",
    "encoded = to_categorical(y)\n",
    "encode = to_categorical(test_y)\n",
    "#pour savoir combien de unites de neurones doit-on mettre dans la derniere couche(sortie) de notre reseau\n",
    "encoded.shape"
   ]
  },
  {
   "cell_type": "code",
   "execution_count": 6,
   "metadata": {},
   "outputs": [
    {
     "name": "stdout",
     "output_type": "stream",
     "text": [
      "_________________________________________________________________\n",
      "Layer (type)                 Output Shape              Param #   \n",
      "=================================================================\n",
      "dense_1 (Dense)              (None, 64)                1088      \n",
      "_________________________________________________________________\n",
      "dense_2 (Dense)              (None, 48)                3120      \n",
      "_________________________________________________________________\n",
      "dense_3 (Dense)              (None, 32)                1568      \n",
      "_________________________________________________________________\n",
      "dense_4 (Dense)              (None, 26)                858       \n",
      "=================================================================\n",
      "Total params: 6,634\n",
      "Trainable params: 6,634\n",
      "Non-trainable params: 0\n",
      "_________________________________________________________________\n"
     ]
    }
   ],
   "source": [
    "#construction de notre reseau de neurones\n",
    "model = Sequential()\n",
    "model.add(Dense(units = 64, kernel_initializer = 'uniform' , activation = 'relu' , input_dim = 16))\n",
    "model.add(Dense(units = 48, kernel_initializer = 'uniform' , activation = 'relu'))\n",
    "model.add(Dense(units = 32, kernel_initializer = 'uniform' , activation = 'relu'))\n",
    "model.add(Dense(units = 26, kernel_initializer = 'uniform' , activation = 'softmax'))\n",
    "#visualisation de l'architecture des couches du cnn(avec sorties et parametres)\n",
    "model.summary()"
   ]
  },
  {
   "cell_type": "code",
   "execution_count": 7,
   "metadata": {},
   "outputs": [],
   "source": [
    "#definition de l'optimiseur, la fonction perte et la mesure de performance\n",
    "model.compile(optimizer = 'adam', loss = 'binary_crossentropy', metrics = ['accuracy'])"
   ]
  },
  {
   "cell_type": "code",
   "execution_count": 8,
   "metadata": {},
   "outputs": [
    {
     "name": "stdout",
     "output_type": "stream",
     "text": [
      "Epoch 1/30\n",
      "6665/6665 [==============================] - 1s 184us/step - loss: 0.1176 - acc: 0.9617\n",
      "Epoch 2/30\n",
      "6665/6665 [==============================] - 1s 98us/step - loss: 0.0914 - acc: 0.9631\n",
      "Epoch 3/30\n",
      "6665/6665 [==============================] - 1s 96us/step - loss: 0.0763 - acc: 0.9670\n",
      "Epoch 4/30\n",
      "6665/6665 [==============================] - 1s 97us/step - loss: 0.0604 - acc: 0.9738\n",
      "Epoch 5/30\n",
      "6665/6665 [==============================] - 1s 98us/step - loss: 0.0535 - acc: 0.9773\n",
      "Epoch 6/30\n",
      "6665/6665 [==============================] - 1s 97us/step - loss: 0.0481 - acc: 0.9802\n",
      "Epoch 7/30\n",
      "6665/6665 [==============================] - 1s 103us/step - loss: 0.0449 - acc: 0.9814\n",
      "Epoch 8/30\n",
      "6665/6665 [==============================] - 1s 103us/step - loss: 0.0418 - acc: 0.9833\n",
      "Epoch 9/30\n",
      "6665/6665 [==============================] - 1s 100us/step - loss: 0.0412 - acc: 0.9834\n",
      "Epoch 10/30\n",
      "6665/6665 [==============================] - 1s 102us/step - loss: 0.0389 - acc: 0.9843\n",
      "Epoch 11/30\n",
      "6665/6665 [==============================] - 1s 99us/step - loss: 0.0364 - acc: 0.9861\n",
      "Epoch 12/30\n",
      "6665/6665 [==============================] - 1s 103us/step - loss: 0.0346 - acc: 0.9868\n",
      "Epoch 13/30\n",
      "6665/6665 [==============================] - 1s 112us/step - loss: 0.0331 - acc: 0.9875\n",
      "Epoch 14/30\n",
      "6665/6665 [==============================] - 1s 114us/step - loss: 0.0311 - acc: 0.9885\n",
      "Epoch 15/30\n",
      "6665/6665 [==============================] - 1s 111us/step - loss: 0.0310 - acc: 0.9887\n",
      "Epoch 16/30\n",
      "6665/6665 [==============================] - 1s 101us/step - loss: 0.0285 - acc: 0.9895 0s - loss: 0.0288 - acc: 0\n",
      "Epoch 17/30\n",
      "6665/6665 [==============================] - 1s 101us/step - loss: 0.0274 - acc: 0.9902\n",
      "Epoch 18/30\n",
      "6665/6665 [==============================] - 1s 111us/step - loss: 0.0243 - acc: 0.9912\n",
      "Epoch 19/30\n",
      "6665/6665 [==============================] - 1s 141us/step - loss: 0.0242 - acc: 0.9912\n",
      "Epoch 20/30\n",
      "6665/6665 [==============================] - 1s 127us/step - loss: 0.0221 - acc: 0.9923\n",
      "Epoch 21/30\n",
      "6665/6665 [==============================] - 1s 155us/step - loss: 0.0221 - acc: 0.9921\n",
      "Epoch 22/30\n",
      "6665/6665 [==============================] - 1s 126us/step - loss: 0.0200 - acc: 0.9933\n",
      "Epoch 23/30\n",
      "6665/6665 [==============================] - 1s 105us/step - loss: 0.0213 - acc: 0.9925\n",
      "Epoch 24/30\n",
      "6665/6665 [==============================] - 1s 129us/step - loss: 0.0205 - acc: 0.9928\n",
      "Epoch 25/30\n",
      "6665/6665 [==============================] - 1s 121us/step - loss: 0.0202 - acc: 0.9929\n",
      "Epoch 26/30\n",
      "6665/6665 [==============================] - 1s 136us/step - loss: 0.0185 - acc: 0.9935\n",
      "Epoch 27/30\n",
      "6665/6665 [==============================] - 1s 125us/step - loss: 0.0176 - acc: 0.9937\n",
      "Epoch 28/30\n",
      "6665/6665 [==============================] - 1s 119us/step - loss: 0.0169 - acc: 0.9942 0s - loss: 0.0150 -\n",
      "Epoch 29/30\n",
      "6665/6665 [==============================] - 1s 158us/step - loss: 0.0169 - acc: 0.9942\n",
      "Epoch 30/30\n",
      "6665/6665 [==============================] - 1s 135us/step - loss: 0.0178 - acc: 0.9938\n"
     ]
    },
    {
     "data": {
      "text/plain": [
       "<keras.callbacks.History at 0x1cb2fe7e320>"
      ]
     },
     "execution_count": 8,
     "metadata": {},
     "output_type": "execute_result"
    }
   ],
   "source": [
    "#phase d'apprentissage du modele cnn\n",
    "model.fit(x, encoded, batch_size = 16, epochs = 30)"
   ]
  },
  {
   "cell_type": "code",
   "execution_count": 9,
   "metadata": {},
   "outputs": [
    {
     "name": "stdout",
     "output_type": "stream",
     "text": [
      "[[False False False ... False False False]\n",
      " [False False False ... False False False]\n",
      " [False False False ... False False False]\n",
      " ...\n",
      " [False False False ... False False False]\n",
      " [False False False ... False False False]\n",
      " [ True False False ... False False False]]\n"
     ]
    }
   ],
   "source": [
    "#phase de prediction\n",
    "y_pred = model.predict(test_x)\n",
    "y_pred = (y_pred >= 0.4)\n",
    "#affichage de la prediction\n",
    "print(y_pred)"
   ]
  },
  {
   "cell_type": "code",
   "execution_count": 10,
   "metadata": {},
   "outputs": [
    {
     "name": "stdout",
     "output_type": "stream",
     "text": [
      "[[272   2   0   0   0   0   0   0   0   0   0   0   0   0   0   0   0   0\n",
      "    0   0   0   0   0   0   0   0]\n",
      " [  0 239   1   0   0   0   0   0   0   0   0   0   0   0   0   0   0   0\n",
      "    0   0   0   0   0   0   0   0]\n",
      " [  0   0 224   2   0   0   0   0   0   0   0   0   0   0   0   0   0   0\n",
      "    0   0   0   0   0   0   0   0]\n",
      " [  0   0   1 276   0   0   0   0   0   0   0   0   0   0   0   0   0   0\n",
      "    0   0   0   0   0   0   0   0]\n",
      " [  0   0   0   0 257   5   0   0   0   0   0   0   0   0   0   0   0   0\n",
      "    0   0   0   0   0   0   0   0]\n",
      " [  0   0   0   0   0 264   5   0   0   0   0   0   0   0   0   0   0   0\n",
      "    0   0   0   0   0   0   0   0]\n",
      " [  0   0   0   0   0   3 234  24   2   0   0   0   0   0   0   0   0   0\n",
      "    0   0   0   0   0   0   0   0]\n",
      " [  0   0   0   0   0   0   0 224   6   0   0   0   0   0   0   0   0   0\n",
      "    0   0   0   0   0   0   0   0]\n",
      " [  1   0   0   0   0   0   0   2 258   8   0   0   0   0   0   0   0   0\n",
      "    0   0   0   0   0   0   0   0]\n",
      " [  0   0   0   0   0   0   0   0   2 226  11   0   0   0   0   0   0   0\n",
      "    0   0   0   0   0   0   0   0]\n",
      " [  0   0   0   0   0   0   0   0   0   0 242   1   0   0   0   0   0   0\n",
      "    0   0   0   0   0   0   0   0]\n",
      " [  0   0   0   0   0   0   0   0   0   0  21 243   2   3   1   0   0   0\n",
      "    0   0   0   0   0   0   0   0]\n",
      " [  0   0   0   0   0   0   0   0   0   0   0   0 209  36   0   0   0   0\n",
      "    0   0   0   0   0   0   0   0]\n",
      " [  0   0   0   0   0   0   0   0   0   0   0   0   0 267   5   0   0   0\n",
      "    0   0   0   0   0   0   0   0]\n",
      " [  0   0   0   0   0   0   0   0   0   0   0   0   0  26 201   9   1   0\n",
      "    0   0   0   0   0   0   0   0]\n",
      " [  1   0   0   0   0   0   0   0   0   0   0   0   0   0   4 259   2   0\n",
      "    0   0   0   0   0   0   0   0]\n",
      " [  7   0   0   0   0   0   0   0   0   0   0   0   0   5   5   4 233  12\n",
      "   12   0   2   0   0   0   0   0]\n",
      " [  4   0   0   0   0   0   0   0   0   0   0   0   0   0   0   3   0 255\n",
      "    3   0   6   0   0   0   0   0]\n",
      " [  2   0   0   0   0   0   0   0   0   0   0   0   0   0   0   0   0  13\n",
      "  238   9   0   0   0   1   0   0]\n",
      " [  0   0   0   0   0   0   0   0   0   0   0   0   0   0   0   0   0   1\n",
      "   17 208  18   0   0   0   0   0]\n",
      " [  0   0   0   0   0   0   0   0   0   0   0   0   0   0   0   0   0   0\n",
      "    0   0 273   0   1   0   0   0]\n",
      " [  0   0   0   0   0   0   0   0   0   0   0   0   0   0   0   0   0   0\n",
      "    0   0  51 161  22   0   4   0]\n",
      " [  0   0   0   0   0   0   0   0   0   0   0   0   0   0   0   0   0   0\n",
      "    0   0   1   0 236   0   4   0]\n",
      " [  1   0   0   0   0   0   0   0   0   0   0   0   0   0   0   0   0   0\n",
      "    0   0   3   0   0 213  16  28]\n",
      " [  0   0   0   0   0   0   0   0   0   0   0   0   0   0   0   0   0   0\n",
      "    0   0   0   0   2   0 241   9]\n",
      " [  0   0   0   0   0   0   0   0   0   0   0   0   0   0   0   0   0   0\n",
      "    0   0   0   0   0   4   9 246]]\n"
     ]
    }
   ],
   "source": [
    "#creation de la matrice de confusion\n",
    "cm = confusion_matrix(encode.argmax(axis=1), y_pred.argmax(axis=1))\n",
    "#impression de la matrice de confusion\n",
    "print(cm)"
   ]
  },
  {
   "cell_type": "code",
   "execution_count": null,
   "metadata": {},
   "outputs": [],
   "source": []
  }
 ],
 "metadata": {
  "kernelspec": {
   "display_name": "Python 3",
   "language": "python",
   "name": "python3"
  },
  "language_info": {
   "codemirror_mode": {
    "name": "ipython",
    "version": 3
   },
   "file_extension": ".py",
   "mimetype": "text/x-python",
   "name": "python",
   "nbconvert_exporter": "python",
   "pygments_lexer": "ipython3",
   "version": "3.6.8"
  }
 },
 "nbformat": 4,
 "nbformat_minor": 2
}
