{
 "cells": [
  {
   "cell_type": "code",
   "execution_count": 1,
   "metadata": {},
   "outputs": [
    {
     "name": "stderr",
     "output_type": "stream",
     "text": [
      "Using TensorFlow backend.\n"
     ]
    }
   ],
   "source": [
    "import pandas as pd\n",
    "import tensorflow as tf\n",
    "import keras as k\n",
    "import matplotlib.pyplot as plt\n",
    "from keras.models import Sequential\n",
    "from keras.layers import Dense\n",
    "from keras.utils import to_categorical\n",
    "from sklearn.metrics import confusion_matrix"
   ]
  },
  {
   "cell_type": "code",
   "execution_count": 2,
   "metadata": {},
   "outputs": [
    {
     "data": {
      "text/plain": [
       "(99, 5)"
      ]
     },
     "execution_count": 2,
     "metadata": {},
     "output_type": "execute_result"
    }
   ],
   "source": [
    "#lire la base d'apprentissage\n",
    "dataset = pd.read_csv('iris_trn.csv', delimiter = \";\")\n",
    "#visualiser le nombre de lignes et de colonne contient la base d'apprentissage\n",
    "dataset.shape"
   ]
  },
  {
   "cell_type": "code",
   "execution_count": 3,
   "metadata": {},
   "outputs": [
    {
     "data": {
      "text/plain": [
       "(49, 5)"
      ]
     },
     "execution_count": 3,
     "metadata": {},
     "output_type": "execute_result"
    }
   ],
   "source": [
    "#lire la base de test\n",
    "dataset_test = pd.read_csv('iris_tst.csv', delimiter = \";\")\n",
    "x = dataset.iloc[:,1:5]\n",
    "y = dataset.iloc[:,-1]\n",
    "#pour visualiser le nombre de lignes et de colonne de la base de test\n",
    "dataset_test.shape"
   ]
  },
  {
   "cell_type": "code",
   "execution_count": 4,
   "metadata": {},
   "outputs": [],
   "source": [
    "#Entrainement\n",
    "test_x = dataset_test.iloc[:,1:5]\n",
    "test_y = dataset_test.iloc[:,-1]"
   ]
  },
  {
   "cell_type": "code",
   "execution_count": 5,
   "metadata": {},
   "outputs": [
    {
     "data": {
      "text/plain": [
       "(99, 3)"
      ]
     },
     "execution_count": 5,
     "metadata": {},
     "output_type": "execute_result"
    }
   ],
   "source": [
    "#encodage des donnees et des labels (lignes et colonnes) train and test\n",
    "encoded = to_categorical(y)\n",
    "encode = to_categorical(test_y)\n",
    "#pour savoir combien de unites de neurones doit-on mettre dans la derniere couche(sortie) de notre reseau\n",
    "encoded.shape"
   ]
  },
  {
   "cell_type": "code",
   "execution_count": 6,
   "metadata": {},
   "outputs": [
    {
     "name": "stdout",
     "output_type": "stream",
     "text": [
      "_________________________________________________________________\n",
      "Layer (type)                 Output Shape              Param #   \n",
      "=================================================================\n",
      "dense_1 (Dense)              (None, 32)                160       \n",
      "_________________________________________________________________\n",
      "dense_2 (Dense)              (None, 24)                792       \n",
      "_________________________________________________________________\n",
      "dense_3 (Dense)              (None, 6)                 150       \n",
      "_________________________________________________________________\n",
      "dense_4 (Dense)              (None, 3)                 21        \n",
      "=================================================================\n",
      "Total params: 1,123\n",
      "Trainable params: 1,123\n",
      "Non-trainable params: 0\n",
      "_________________________________________________________________\n"
     ]
    }
   ],
   "source": [
    "#construction de notre reseau de neurones\n",
    "model = Sequential()\n",
    "model.add(Dense(units = 32, kernel_initializer = 'uniform' , activation = 'relu' , input_dim = 4))\n",
    "model.add(Dense(units = 24, kernel_initializer = 'uniform' , activation = 'relu'))\n",
    "model.add(Dense(units = 6, kernel_initializer = 'uniform' , activation = 'relu'))\n",
    "model.add(Dense(units = 3, kernel_initializer = 'uniform' , activation = 'softmax'))\n",
    "#visualisation de l'architecture des couches du cnn(avec sorties et parametres)\n",
    "model.summary()"
   ]
  },
  {
   "cell_type": "code",
   "execution_count": 7,
   "metadata": {},
   "outputs": [],
   "source": [
    "#definition de l'optimiseur, la fonction perte et la mesure de performance\n",
    "model.compile(optimizer = 'adam', loss = 'binary_crossentropy', metrics = ['accuracy'])"
   ]
  },
  {
   "cell_type": "code",
   "execution_count": 8,
   "metadata": {},
   "outputs": [
    {
     "name": "stdout",
     "output_type": "stream",
     "text": [
      "Epoch 1/50\n",
      "99/99 [==============================] - 0s 5ms/step - loss: 0.6366 - acc: 0.6667\n",
      "Epoch 2/50\n",
      "99/99 [==============================] - 0s 232us/step - loss: 0.6365 - acc: 0.6667\n",
      "Epoch 3/50\n",
      "99/99 [==============================] - 0s 252us/step - loss: 0.6364 - acc: 0.6667\n",
      "Epoch 4/50\n",
      "99/99 [==============================] - 0s 242us/step - loss: 0.6362 - acc: 0.6667\n",
      "Epoch 5/50\n",
      "99/99 [==============================] - 0s 242us/step - loss: 0.6358 - acc: 0.6667\n",
      "Epoch 6/50\n",
      "99/99 [==============================] - 0s 232us/step - loss: 0.6349 - acc: 0.6667\n",
      "Epoch 7/50\n",
      "99/99 [==============================] - 0s 242us/step - loss: 0.6333 - acc: 0.6667\n",
      "Epoch 8/50\n",
      "99/99 [==============================] - 0s 212us/step - loss: 0.6303 - acc: 0.6667\n",
      "Epoch 9/50\n",
      "99/99 [==============================] - 0s 182us/step - loss: 0.6250 - acc: 0.6667\n",
      "Epoch 10/50\n",
      "99/99 [==============================] - 0s 273us/step - loss: 0.6162 - acc: 0.6667\n",
      "Epoch 11/50\n",
      "99/99 [==============================] - 0s 172us/step - loss: 0.6019 - acc: 0.6667\n",
      "Epoch 12/50\n",
      "99/99 [==============================] - 0s 263us/step - loss: 0.5805 - acc: 0.6667\n",
      "Epoch 13/50\n",
      "99/99 [==============================] - 0s 202us/step - loss: 0.5514 - acc: 0.6667\n",
      "Epoch 14/50\n",
      "99/99 [==============================] - 0s 202us/step - loss: 0.5147 - acc: 0.6902\n",
      "Epoch 15/50\n",
      "99/99 [==============================] - 0s 293us/step - loss: 0.4736 - acc: 0.8586\n",
      "Epoch 16/50\n",
      "99/99 [==============================] - 0s 182us/step - loss: 0.4309 - acc: 0.8721\n",
      "Epoch 17/50\n",
      "99/99 [==============================] - 0s 263us/step - loss: 0.3886 - acc: 0.8586\n",
      "Epoch 18/50\n",
      "99/99 [==============================] - 0s 253us/step - loss: 0.3498 - acc: 0.8418\n",
      "Epoch 19/50\n",
      "99/99 [==============================] - 0s 242us/step - loss: 0.3167 - acc: 0.8620\n",
      "Epoch 20/50\n",
      "99/99 [==============================] - 0s 293us/step - loss: 0.2886 - acc: 0.8721\n",
      "Epoch 21/50\n",
      "99/99 [==============================] - 0s 283us/step - loss: 0.2693 - acc: 0.8956\n",
      "Epoch 22/50\n",
      "99/99 [==============================] - 0s 232us/step - loss: 0.2391 - acc: 0.9630\n",
      "Epoch 23/50\n",
      "99/99 [==============================] - 0s 242us/step - loss: 0.2170 - acc: 0.9798\n",
      "Epoch 24/50\n",
      "99/99 [==============================] - 0s 212us/step - loss: 0.1947 - acc: 0.9899\n",
      "Epoch 25/50\n",
      "99/99 [==============================] - 0s 253us/step - loss: 0.1760 - acc: 1.0000\n",
      "Epoch 26/50\n",
      "99/99 [==============================] - 0s 283us/step - loss: 0.1542 - acc: 0.9933\n",
      "Epoch 27/50\n",
      "99/99 [==============================] - 0s 232us/step - loss: 0.1382 - acc: 1.0000\n",
      "Epoch 28/50\n",
      "99/99 [==============================] - 0s 202us/step - loss: 0.1173 - acc: 1.0000\n",
      "Epoch 29/50\n",
      "99/99 [==============================] - 0s 222us/step - loss: 0.1061 - acc: 0.9933\n",
      "Epoch 30/50\n",
      "99/99 [==============================] - 0s 232us/step - loss: 0.0921 - acc: 0.9933\n",
      "Epoch 31/50\n",
      "99/99 [==============================] - 0s 192us/step - loss: 0.0843 - acc: 1.0000\n",
      "Epoch 32/50\n",
      "99/99 [==============================] - 0s 323us/step - loss: 0.0698 - acc: 1.0000\n",
      "Epoch 33/50\n",
      "99/99 [==============================] - 0s 162us/step - loss: 0.0631 - acc: 1.0000\n",
      "Epoch 34/50\n",
      "99/99 [==============================] - 0s 232us/step - loss: 0.0545 - acc: 1.0000\n",
      "Epoch 35/50\n",
      "99/99 [==============================] - 0s 172us/step - loss: 0.0501 - acc: 1.0000\n",
      "Epoch 36/50\n",
      "99/99 [==============================] - 0s 222us/step - loss: 0.0454 - acc: 1.0000\n",
      "Epoch 37/50\n",
      "99/99 [==============================] - 0s 253us/step - loss: 0.0396 - acc: 1.0000\n",
      "Epoch 38/50\n",
      "99/99 [==============================] - 0s 182us/step - loss: 0.0348 - acc: 1.0000\n",
      "Epoch 39/50\n",
      "99/99 [==============================] - 0s 273us/step - loss: 0.0316 - acc: 1.0000\n",
      "Epoch 40/50\n",
      "99/99 [==============================] - 0s 212us/step - loss: 0.0292 - acc: 1.0000\n",
      "Epoch 41/50\n",
      "99/99 [==============================] - 0s 182us/step - loss: 0.0269 - acc: 1.0000\n",
      "Epoch 42/50\n",
      "99/99 [==============================] - 0s 273us/step - loss: 0.0243 - acc: 1.0000\n",
      "Epoch 43/50\n",
      "99/99 [==============================] - 0s 192us/step - loss: 0.0228 - acc: 1.0000\n",
      "Epoch 44/50\n",
      "99/99 [==============================] - 0s 242us/step - loss: 0.0211 - acc: 1.0000\n",
      "Epoch 45/50\n",
      "99/99 [==============================] - 0s 252us/step - loss: 0.0198 - acc: 1.0000\n",
      "Epoch 46/50\n",
      "99/99 [==============================] - 0s 222us/step - loss: 0.0183 - acc: 1.0000\n",
      "Epoch 47/50\n",
      "99/99 [==============================] - 0s 242us/step - loss: 0.0173 - acc: 1.0000\n",
      "Epoch 48/50\n",
      "99/99 [==============================] - 0s 141us/step - loss: 0.0163 - acc: 1.0000\n",
      "Epoch 49/50\n",
      "99/99 [==============================] - 0s 242us/step - loss: 0.0154 - acc: 1.0000\n",
      "Epoch 50/50\n",
      "99/99 [==============================] - 0s 242us/step - loss: 0.0146 - acc: 1.0000\n"
     ]
    },
    {
     "data": {
      "text/plain": [
       "<keras.callbacks.History at 0x21ee5376080>"
      ]
     },
     "execution_count": 8,
     "metadata": {},
     "output_type": "execute_result"
    }
   ],
   "source": [
    "#phase d'apprentissage du modele cnn\n",
    "model.fit(x, encoded, batch_size = 16, epochs = 50)"
   ]
  },
  {
   "cell_type": "code",
   "execution_count": 9,
   "metadata": {},
   "outputs": [
    {
     "name": "stdout",
     "output_type": "stream",
     "text": [
      "[[False  True False]\n",
      " [ True False False]\n",
      " [ True False False]\n",
      " [ True False False]\n",
      " [ True False False]\n",
      " [False False  True]\n",
      " [False  True False]\n",
      " [False False  True]\n",
      " [ True False False]\n",
      " [False  True False]\n",
      " [False False  True]\n",
      " [ True False False]\n",
      " [False False  True]\n",
      " [False  True False]\n",
      " [False False  True]\n",
      " [ True False False]\n",
      " [False  True False]\n",
      " [False  True False]\n",
      " [False False  True]\n",
      " [ True False False]\n",
      " [ True False False]\n",
      " [False  True False]\n",
      " [False False  True]\n",
      " [False  True False]\n",
      " [False  True False]\n",
      " [False False  True]\n",
      " [False False  True]\n",
      " [ True False False]\n",
      " [False False  True]\n",
      " [ True False False]\n",
      " [ True False False]\n",
      " [False  True False]\n",
      " [ True False False]\n",
      " [ True False False]\n",
      " [False False  True]\n",
      " [False False  True]\n",
      " [False False  True]\n",
      " [ True False False]\n",
      " [False  True False]\n",
      " [ True False False]\n",
      " [False  True False]\n",
      " [False  True False]\n",
      " [False False  True]\n",
      " [False  True False]\n",
      " [False False  True]\n",
      " [False False  True]\n",
      " [False False  True]\n",
      " [False False  True]\n",
      " [ True False False]]\n"
     ]
    }
   ],
   "source": [
    "#phase de prediction\n",
    "y_pred = model.predict(test_x)\n",
    "y_pred = (y_pred >= 0.4)\n",
    "#affichage de la prediction\n",
    "print(y_pred)"
   ]
  },
  {
   "cell_type": "code",
   "execution_count": 10,
   "metadata": {},
   "outputs": [
    {
     "name": "stdout",
     "output_type": "stream",
     "text": [
      "[[17  0  0]\n",
      " [ 0 14  0]\n",
      " [ 0  0 18]]\n"
     ]
    }
   ],
   "source": [
    "#creation de la matrice de confusion\n",
    "cm = confusion_matrix(encode.argmax(axis=1), y_pred.argmax(axis=1))\n",
    "#impression de la matrice de confusion\n",
    "print(cm)"
   ]
  },
  {
   "cell_type": "code",
   "execution_count": null,
   "metadata": {},
   "outputs": [],
   "source": []
  }
 ],
 "metadata": {
  "kernelspec": {
   "display_name": "Python 3",
   "language": "python",
   "name": "python3"
  },
  "language_info": {
   "codemirror_mode": {
    "name": "ipython",
    "version": 3
   },
   "file_extension": ".py",
   "mimetype": "text/x-python",
   "name": "python",
   "nbconvert_exporter": "python",
   "pygments_lexer": "ipython3",
   "version": "3.6.8"
  }
 },
 "nbformat": 4,
 "nbformat_minor": 2
}
